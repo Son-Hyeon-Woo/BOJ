{
 "cells": [
  {
   "cell_type": "code",
   "execution_count": 29,
   "metadata": {},
   "outputs": [],
   "source": [
    "import sys"
   ]
  },
  {
   "cell_type": "code",
   "execution_count": 48,
   "metadata": {},
   "outputs": [],
   "source": [
    "# x = int(sys.stdin.readline())"
   ]
  },
  {
   "cell_type": "code",
   "execution_count": 47,
   "metadata": {},
   "outputs": [
    {
     "name": "stdout",
     "output_type": "stream",
     "text": [
      "0\n"
     ]
    }
   ],
   "source": [
    "x = 10\n",
    "dic = {2:1,3:1}\n",
    "cnt = 0\n",
    "num = x\n",
    "while x not in dic:\n",
    "    if num == 1:\n",
    "        dic[x] = cnt\n",
    "        break\n",
    "    \n",
    "    if num % 3 ==0:\n",
    "        num /= 3\n",
    "    elif ((num-1) / 3) % 3 == 0:\n",
    "        num -= 1\n",
    "    elif num % 2 == 0:\n",
    "        num /= 2\n",
    "    else:\n",
    "        num -= 1\n",
    "        \n",
    "print(dic[x])"
   ]
  },
  {
   "cell_type": "code",
   "execution_count": 49,
   "metadata": {},
   "outputs": [
    {
     "data": {
      "text/plain": [
       "[0, 0, 0]"
      ]
     },
     "execution_count": 49,
     "metadata": {},
     "output_type": "execute_result"
    }
   ],
   "source": [
    "[0] * 3"
   ]
  },
  {
   "cell_type": "code",
   "execution_count": 53,
   "metadata": {},
   "outputs": [
    {
     "name": "stdout",
     "output_type": "stream",
     "text": [
      "i = 2\n",
      "before dp is [0, 0, 1, 0, 0, 0, 0, 0, 0, 0, 0]\n",
      "dp is [0, 0, 1, 0, 0, 0, 0, 0, 0, 0, 0]\n",
      "i = 3\n",
      "before dp is [0, 0, 1, 2, 0, 0, 0, 0, 0, 0, 0]\n",
      "dp is [0, 0, 1, 1, 0, 0, 0, 0, 0, 0, 0]\n",
      "i = 4\n",
      "before dp is [0, 0, 1, 1, 2, 0, 0, 0, 0, 0, 0]\n",
      "dp is [0, 0, 1, 1, 2, 0, 0, 0, 0, 0, 0]\n",
      "i = 5\n",
      "before dp is [0, 0, 1, 1, 2, 3, 0, 0, 0, 0, 0]\n",
      "dp is [0, 0, 1, 1, 2, 3, 0, 0, 0, 0, 0]\n",
      "i = 6\n",
      "before dp is [0, 0, 1, 1, 2, 3, 4, 0, 0, 0, 0]\n",
      "dp is [0, 0, 1, 1, 2, 3, 2, 0, 0, 0, 0]\n",
      "i = 7\n",
      "before dp is [0, 0, 1, 1, 2, 3, 2, 3, 0, 0, 0]\n",
      "dp is [0, 0, 1, 1, 2, 3, 2, 3, 0, 0, 0]\n",
      "i = 8\n",
      "before dp is [0, 0, 1, 1, 2, 3, 2, 3, 4, 0, 0]\n",
      "dp is [0, 0, 1, 1, 2, 3, 2, 3, 3, 0, 0]\n",
      "i = 9\n",
      "before dp is [0, 0, 1, 1, 2, 3, 2, 3, 3, 4, 0]\n",
      "dp is [0, 0, 1, 1, 2, 3, 2, 3, 3, 2, 0]\n",
      "i = 10\n",
      "before dp is [0, 0, 1, 1, 2, 3, 2, 3, 3, 2, 3]\n",
      "dp is [0, 0, 1, 1, 2, 3, 2, 3, 3, 2, 3]\n",
      "3\n"
     ]
    }
   ],
   "source": [
    "n = 10\n",
    "dp = [0] * (n+1)\n",
    "\n",
    "for i in range(2, n+1):\n",
    "    print(f'i = {i}')\n",
    "    dp[i] = dp[i-1] + 1\n",
    "    print(f'before dp is {dp}')\n",
    "    \n",
    "    \n",
    "    \n",
    "    if i % 2 == 0:\n",
    "        dp[i] = min(dp[i], dp[i//2]+1)\n",
    "    if i % 3 == 0:\n",
    "        dp[i] = min(dp[i], dp[i//3] + 1)\n",
    "    print(f'dp is {dp}')\n",
    "print(dp[n])"
   ]
  }
 ],
 "metadata": {
  "interpreter": {
   "hash": "8fac594bfae6525c0c41b4041d2d72effa188cc8ead05f81b1fab2bb098927fb"
  },
  "kernelspec": {
   "display_name": "Python 3.8.8 ('base')",
   "language": "python",
   "name": "python3"
  },
  "language_info": {
   "codemirror_mode": {
    "name": "ipython",
    "version": 3
   },
   "file_extension": ".py",
   "mimetype": "text/x-python",
   "name": "python",
   "nbconvert_exporter": "python",
   "pygments_lexer": "ipython3",
   "version": "3.8.8"
  },
  "orig_nbformat": 4
 },
 "nbformat": 4,
 "nbformat_minor": 2
}
